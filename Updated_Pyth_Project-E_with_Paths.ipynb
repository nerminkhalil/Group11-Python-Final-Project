{
 "cells": [
  {
   "cell_type": "markdown",
   "metadata": {},
   "source": [
    "## Python Project ##"
   ]
  },
  {
   "cell_type": "code",
   "execution_count": 1,
   "metadata": {},
   "outputs": [],
   "source": [
    "import sqlite3 \n",
    "import csv \n",
    "\n",
    "con = sqlite3.connect('Project.db')\n",
    "cursor = con.cursor()"
   ]
  },
  {
   "cell_type": "code",
   "execution_count": null,
   "metadata": {},
   "outputs": [],
   "source": [
    "create_table = \"\"\"CREATE TABLE career(\n",
    "                        field_of_study TEXT,\n",
    "                        current_occupation TEXT,\n",
    "                        age INT,\n",
    "                        gender TEXT,\n",
    "                        years_of_experience INT,\n",
    "                        education_level TEXT,\n",
    "                        industry_growth_rate TEXT,\n",
    "                        job_satisfaction INT,\n",
    "                        work_life_balance INT,\n",
    "                        job_opportunities INT,\n",
    "                        salary INT,\n",
    "                        job_security INT,\n",
    "                        career_change_interest BOOLEAN,\n",
    "                        skills_gap INT,\n",
    "                        family_influence TEXT,\n",
    "                        mentorship_available BOOLEAN,\n",
    "                        certifications BOOLEAN,\n",
    "                        freelancing experience BOOLEAN,\n",
    "                        geographic_mobility BOOLEAN,\n",
    "                        professional_networks INT,\n",
    "                        career_change_events INT,\n",
    "                        technology_adoption INT,\n",
    "                        likely_to_change_occupation BOOLEAN);\n",
    "                \"\"\"\n",
    "\n",
    "cursor.execute(create_table)"
   ]
  },
  {
   "cell_type": "code",
   "execution_count": 3,
   "metadata": {},
   "outputs": [
    {
     "name": "stdout",
     "output_type": "stream",
     "text": [
      "Table 'career' exists. Renaming it to 'career_old'.\n",
      "Copying data from 'career_old' to the new 'career' table.\n",
      "Dropping the old table 'career_old'.\n",
      "Table creation or modification completed successfully.\n"
     ]
    }
   ],
   "source": [
    "import sqlite3\n",
    "\n",
    "# Connect to the database (or create it if it doesn't exist)\n",
    "connection = sqlite3.connect(\"career_database.db\")\n",
    "cursor = connection.cursor()\n",
    "\n",
    "# Check if the table exists\n",
    "cursor.execute(\"\"\"\n",
    "SELECT name \n",
    "FROM sqlite_master \n",
    "WHERE type='table' AND name='career';\n",
    "\"\"\")\n",
    "table_exists = cursor.fetchone()\n",
    "\n",
    "if table_exists:\n",
    "    print(\"Table 'career' exists. Renaming it to 'career_old'.\")\n",
    "    # Step 1: Rename the old table\n",
    "    cursor.execute(\"ALTER TABLE career RENAME TO career_old;\")\n",
    "else:\n",
    "    print(\"Table 'career' does not exist. Proceeding to create it.\")\n",
    "\n",
    "# Step 2: Create a new table with the correct schema\n",
    "cursor.execute(\"\"\"\n",
    "CREATE TABLE IF NOT EXISTS career (\n",
    "    field_of_study TEXT,\n",
    "    current_occupation TEXT,\n",
    "    age INTEGER,\n",
    "    gender TEXT,\n",
    "    years_of_experience INTEGER,\n",
    "    education_level TEXT,\n",
    "    industry_growth_rate TEXT,\n",
    "    job_satisfaction INTEGER,\n",
    "    work_life_balance INTEGER,\n",
    "    job_opportunities INTEGER,\n",
    "    salary INTEGER,\n",
    "    job_security INTEGER,\n",
    "    career_change_interest BOOLEAN,\n",
    "    skills_gap INTEGER,\n",
    "    family_influence TEXT,\n",
    "    mentorship_available BOOLEAN,\n",
    "    certifications BOOLEAN,\n",
    "    freelancing_experience BOOLEAN,\n",
    "    geographic_mobility BOOLEAN,\n",
    "    professional_networks INTEGER,\n",
    "    career_change_events INTEGER,\n",
    "    technology_adoption INTEGER,\n",
    "    likely_to_change_occupation BOOLEAN\n",
    ");\n",
    "\"\"\")\n",
    "\n",
    "if table_exists:\n",
    "    # Step 3: Copy data from the old table to the new table\n",
    "    print(\"Copying data from 'career_old' to the new 'career' table.\")\n",
    "    cursor.execute(\"\"\"\n",
    "    INSERT INTO career (\n",
    "        field_of_study,\n",
    "        current_occupation,\n",
    "        age,\n",
    "        gender,\n",
    "        years_of_experience,\n",
    "        education_level,\n",
    "        industry_growth_rate,\n",
    "        job_satisfaction,\n",
    "        work_life_balance,\n",
    "        job_opportunities,\n",
    "        salary,\n",
    "        job_security,\n",
    "        career_change_interest,\n",
    "        skills_gap,\n",
    "        family_influence,\n",
    "        mentorship_available,\n",
    "        certifications,\n",
    "        freelancing_experience,\n",
    "        geographic_mobility,\n",
    "        professional_networks,\n",
    "        career_change_events,\n",
    "        technology_adoption,\n",
    "        likely_to_change_occupation\n",
    "    )\n",
    "    SELECT \n",
    "        field_of_study,\n",
    "        current_occupation,\n",
    "        age,\n",
    "        gender,\n",
    "        years_of_experience,\n",
    "        education_level,\n",
    "        industry_growth_rate,\n",
    "        job_satisfaction,\n",
    "        work_life_balance,\n",
    "        job_opportunities,\n",
    "        salary,\n",
    "        job_security,\n",
    "        career_change_interest,\n",
    "        skills_gap,\n",
    "        family_influence,\n",
    "        mentorship_available,\n",
    "        certifications,\n",
    "        freelancing_experience,\n",
    "        geographic_mobility,\n",
    "        professional_networks,\n",
    "        career_change_events,\n",
    "        technology_adoption,\n",
    "        likely_to_change_occupation\n",
    "    FROM career_old;\n",
    "    \"\"\")\n",
    "\n",
    "    # Step 4: Drop the old table\n",
    "    print(\"Dropping the old table 'career_old'.\")\n",
    "    cursor.execute(\"DROP TABLE career_old;\")\n",
    "\n",
    "# Commit the changes and close the connection\n",
    "connection.commit()\n",
    "connection.close()\n",
    "\n",
    "print(\"Table creation or modification completed successfully.\")\n"
   ]
  },
  {
   "cell_type": "code",
   "execution_count": 10,
   "metadata": {},
   "outputs": [
    {
     "name": "stdout",
     "output_type": "stream",
     "text": [
      "Data has been successfully inserted into the career table.\n"
     ]
    }
   ],
   "source": [
    "import sqlite3\n",
    "import csv\n",
    "\n",
    "# Open a connection to the database\n",
    "connection = sqlite3.connect(r\"C:\\Users\\User\\Python_Project\\career_database.db\")\n",
    "cursor = connection.cursor()\n",
    "\n",
    "# Open the CSV file and insert rows into the database\n",
    "with open(r\"C:\\Users\\User\\Python_Project\\career_change_prediction_dataset.csv\", encoding='utf8') as f:\n",
    "    data = csv.reader(f)\n",
    "    for row in data:\n",
    "        if row[0] == 'Title':  # Skip the header row\n",
    "            continue\n",
    "        cursor.execute(\n",
    "            \"\"\"\n",
    "            INSERT INTO career (\n",
    "                field_of_study, current_occupation, age, gender, years_of_experience,\n",
    "                education_level, industry_growth_rate, job_satisfaction, work_life_balance,\n",
    "                job_opportunities, salary, job_security, career_change_interest, skills_gap,\n",
    "                family_influence, mentorship_available, certifications, freelancing_experience,\n",
    "                geographic_mobility, professional_networks, career_change_events, technology_adoption,\n",
    "                likely_to_change_occupation\n",
    "            ) VALUES (?,?,?,?,?,?,?,?,?,?,?,?,?,?,?,?,?,?,?,?,?,?,?)\n",
    "            \"\"\",\n",
    "            tuple(row)  # Pass all columns from the CSV row\n",
    "        )\n",
    "\n",
    "# Commit the changes and close the database connection\n",
    "connection.commit()\n",
    "connection.close()\n",
    "\n",
    "print(\"Data has been successfully inserted into the career table.\")\n"
   ]
  },
  {
   "cell_type": "code",
   "execution_count": 9,
   "metadata": {},
   "outputs": [
    {
     "name": "stdout",
     "output_type": "stream",
     "text": [
      "C:\\Users\\User\\Python_Project\\career_database.db\n"
     ]
    }
   ],
   "source": [
    "import pathlib \n",
    "\n",
    "base_path = pathlib.Path(r\"C:\\Users\\User\\Python_Project\")\n",
    "db_name = \"career_database.db\"\n",
    "db_path = base_path / db_name\n",
    "print(db_path)"
   ]
  },
  {
   "cell_type": "code",
   "execution_count": 11,
   "metadata": {},
   "outputs": [
    {
     "name": "stdout",
     "output_type": "stream",
     "text": [
      " * Serving Flask app '__main__'\n",
      " * Debug mode: on\n"
     ]
    },
    {
     "name": "stderr",
     "output_type": "stream",
     "text": [
      "WARNING: This is a development server. Do not use it in a production deployment. Use a production WSGI server instead.\n",
      " * Running on http://127.0.0.1:5000\n",
      "Press CTRL+C to quit\n",
      " * Restarting with stat\n"
     ]
    },
    {
     "ename": "SystemExit",
     "evalue": "1",
     "output_type": "error",
     "traceback": [
      "An exception has occurred, use %tb to see the full traceback.\n",
      "\u001b[1;31mSystemExit\u001b[0m\u001b[1;31m:\u001b[0m 1\n"
     ]
    }
   ],
   "source": [
    "from flask import Flask, render_template\n",
    "import sqlite3\n",
    "\n",
    "app = Flask(__name__)\n",
    "\n",
    "DATABASE = \"career_database.db\"  # Update this with the correct path to your SQLite database\n",
    "\n",
    "@app.route('/home')\n",
    "def homepage():\n",
    "    return render_template('home.html')\n",
    "\n",
    "@app.route('/about')\n",
    "def about():\n",
    "    return render_template('about.html')\n",
    "\n",
    "@app.route('/data')\n",
    "def data():\n",
    "    con = sqlite3.connect(DATABASE)\n",
    "    cursor = con.cursor()\n",
    "    data = cursor.execute(\"SELECT * FROM career LIMIT 100\").fetchall()\n",
    "    con.close()\n",
    "    return render_template('data.html', data=data)\n",
    "\n",
    "if __name__ == '__main__':\n",
    "    app.run(debug=True)\n"
   ]
  }
 ],
 "metadata": {
  "kernelspec": {
   "display_name": "Python 3",
   "language": "python",
   "name": "python3"
  },
  "language_info": {
   "codemirror_mode": {
    "name": "ipython",
    "version": 3
   },
   "file_extension": ".py",
   "mimetype": "text/x-python",
   "name": "python",
   "nbconvert_exporter": "python",
   "pygments_lexer": "ipython3",
   "version": "3.12.1"
  }
 },
 "nbformat": 4,
 "nbformat_minor": 2
}
